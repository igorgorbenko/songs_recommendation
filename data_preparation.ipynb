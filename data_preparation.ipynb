{
 "cells": [
  {
   "cell_type": "markdown",
   "source": [
    "# Data preparation and creation of Milvus collections"
   ],
   "metadata": {
    "collapsed": false,
    "pycharm": {
     "name": "#%% md\n"
    }
   }
  },
  {
   "cell_type": "code",
   "execution_count": null,
   "outputs": [],
   "source": [
    "import os\n",
    "import time\n",
    "\n",
    "import pandas as pd\n",
    "import numpy as np\n",
    "from dotenv import load_dotenv\n",
    "\n",
    "from pymilvus import connections, utility, MilvusClient\n",
    "from pymilvus import FieldSchema, CollectionSchema, DataType, Collection\n",
    "\n",
    "from sentence_transformers import SentenceTransformer\n",
    "\n",
    "os.environ[\"TOKENIZERS_PARALLELISM\"] = \"false\"\n",
    "os.environ[\"KMP_DUPLICATE_LIB_OK\"] = \"true\""
   ],
   "metadata": {
    "collapsed": false,
    "pycharm": {
     "name": "#%%\n"
    }
   }
  },
  {
   "cell_type": "code",
   "execution_count": null,
   "outputs": [],
   "source": [
    "load_dotenv()\n",
    "MILVUS_HOST = os.environ['MILVUS_HOST']\n",
    "MILVUS_TOKEN = os.environ['MILVUS_TOKEN']\n",
    "\n",
    "HOST = MILVUS_HOST\n",
    "TOKEN = MILVUS_TOKEN\n",
    "\n",
    "MILVUS_USERS_COLLECTION = os.environ['MILVUS_USERS_COLLECTION']\n",
    "MILVUS_SONGS_COLLECTION = os.environ['MILVUS_SONGS_COLLECTION']\n",
    "MILVUS_ARTISTS_COLLECTION = os.environ['MILVUS_ARTISTS_COLLECTION']\n",
    "MILVUS_USERS_ARTISTS_COLLECTION = os.environ['MILVUS_USERS_ARTISTS_COLLECTION']\n",
    "\n",
    "DIMENSION = 384\n",
    "BATCH_SIZE = 512"
   ],
   "metadata": {
    "collapsed": false,
    "pycharm": {
     "name": "#%%\n"
    }
   }
  },
  {
   "cell_type": "markdown",
   "source": [
    "## Read and clean dataset"
   ],
   "metadata": {
    "collapsed": false,
    "pycharm": {
     "name": "#%% md\n"
    }
   }
  },
  {
   "cell_type": "code",
   "execution_count": null,
   "outputs": [],
   "source": [
    "df = pd.read_csv(\"./dataset/Spotify Million Song Dataset_exported.csv\")\n",
    "df = df.dropna()\n",
    "\n",
    "cleaned_df = df.loc[(df[\"text\"].str.len() > 50)]\n",
    "cleaned_df[\"text\"] = cleaned_df[\"text\"].str.replace(\"\\n\", \" \")"
   ],
   "metadata": {
    "collapsed": false,
    "pycharm": {
     "name": "#%%\n"
    }
   }
  },
  {
   "cell_type": "code",
   "execution_count": null,
   "outputs": [],
   "source": [
    "connections.connect(\"default\", uri=HOST, token=TOKEN)"
   ],
   "metadata": {
    "collapsed": false,
    "pycharm": {
     "name": "#%%\n"
    }
   }
  },
  {
   "cell_type": "code",
   "execution_count": null,
   "outputs": [],
   "source": [
    "def create_songs_collection():\n",
    "    if utility.has_collection(MILVUS_SONGS_COLLECTION):\n",
    "        utility.drop_collection(MILVUS_SONGS_COLLECTION)\n",
    "\n",
    "    # object should be inserted in the format of (artist, song, embedding embedding)\n",
    "    fields = [\n",
    "        FieldSchema(name=\"id\", dtype=DataType.INT64, is_primary=True, auto_id=True),\n",
    "        FieldSchema(name=\"artist\", dtype=DataType.VARCHAR, max_length=100),\n",
    "        FieldSchema(name=\"song\", dtype=DataType.VARCHAR, max_length=100),\n",
    "        FieldSchema(name=\"embedding\", dtype=DataType.FLOAT_VECTOR, dim=DIMENSION)\n",
    "    ]\n",
    "    \n",
    "    schema = CollectionSchema(fields=fields)\n",
    "    collection = Collection(name=MILVUS_SONGS_COLLECTION, schema=schema)\n",
    "\n",
    "    collection.create_index(field_name=\"embedding\", \n",
    "                            index_params={\n",
    "                                \"index_type\": \"IVF_FLAT\",\n",
    "                                \"metric_type\": \"L2\",\n",
    "                                \"params\": {\"nlist\": 128},\n",
    "                            })    \n",
    "    collection.load()\n",
    "    return collection"
   ],
   "metadata": {
    "collapsed": false,
    "pycharm": {
     "name": "#%%\n"
    }
   }
  },
  {
   "cell_type": "code",
   "execution_count": null,
   "outputs": [],
   "source": [
    "songs_collection = create_songs_collection()"
   ],
   "metadata": {
    "collapsed": false,
    "pycharm": {
     "name": "#%%\n"
    }
   }
  },
  {
   "cell_type": "markdown",
   "source": [
    "## Create song embeddings"
   ],
   "metadata": {
    "collapsed": false,
    "pycharm": {
     "name": "#%% md\n"
    }
   }
  },
  {
   "cell_type": "code",
   "execution_count": null,
   "outputs": [],
   "source": [
    "transformer = SentenceTransformer('all-MiniLM-L6-v2')"
   ],
   "metadata": {
    "collapsed": false,
    "pycharm": {
     "name": "#%%\n"
    }
   }
  },
  {
   "cell_type": "code",
   "execution_count": null,
   "outputs": [],
   "source": [
    "def embed_insert(data, collection):\n",
    "    try:\n",
    "        texts = np.array(data[2])\n",
    "        embeddings = transformer.encode(texts)\n",
    "\n",
    "        insert_data = [\n",
    "            {\"artist\": artist, \"song\": song, \"embedding\": embedding.tolist()}\n",
    "            for artist, song, embedding in zip(data[0], data[1], embeddings)\n",
    "        ]\n",
    "\n",
    "        collection.insert(insert_data)\n",
    "        return {f\"{artist}-{song}\": embedding.tolist() for artist, song, embedding in zip(data[0], data[1], embeddings)}\n",
    "    except Exception as e:\n",
    "        print(f\"Error during embedding and insertion: {e}\")\n",
    "        return None"
   ],
   "metadata": {
    "collapsed": false,
    "pycharm": {
     "name": "#%%\n"
    }
   }
  },
  {
   "cell_type": "code",
   "execution_count": null,
   "outputs": [],
   "source": [
    "data_batch = [[], [], []]\n",
    "song_vectors = {} \n",
    "\n",
    "for index, row in cleaned_df.iterrows():\n",
    "    data_batch[0].append(row[\"artist\"])\n",
    "    data_batch[1].append(row[\"song\"])\n",
    "    data_batch[2].append(row[\"text\"])\n",
    "\n",
    "    if len(data_batch[0]) % BATCH_SIZE == 0:\n",
    "        batch_vectors = embed_insert(data_batch, songs_collection)\n",
    "        if batch_vectors is not None:\n",
    "            song_vectors.update(batch_vectors)\n",
    "        data_batch = [[], [], []]\n",
    "\n",
    "if len(data_batch[0]) != 0:\n",
    "    batch_vectors = embed_insert(data_batch, songs_collection)\n",
    "    if batch_vectors is not None:\n",
    "        song_vectors.update(batch_vectors)\n",
    "\n",
    "try:\n",
    "    songs_collection.flush()\n",
    "    print(\"Flushed changes to the songs collection.\")\n",
    "except Exception as e:\n",
    "    print(f\"Error during flushing the songs collection: {e}\")"
   ],
   "metadata": {
    "collapsed": false,
    "pycharm": {
     "name": "#%%\n"
    }
   }
  },
  {
   "cell_type": "markdown",
   "source": [
    "## Calculate average vector for each artist"
   ],
   "metadata": {
    "collapsed": false,
    "pycharm": {
     "name": "#%% md\n"
    }
   }
  },
  {
   "cell_type": "code",
   "execution_count": null,
   "outputs": [],
   "source": [
    "from collections import defaultdict\n",
    "\n",
    "start_time = time.time()\n",
    "artist_vectors = defaultdict(list)\n",
    "\n",
    "for artist, song, embedding in zip(cleaned_df[\"artist\"], cleaned_df[\"song\"], song_vectors.values()):\n",
    "    artist_vectors[artist].append(embedding)\n",
    "\n",
    "artist_avg_vectors = {artist: np.mean(vectors, axis=0).tolist() for artist, vectors in artist_vectors.items()}\n",
    "\n",
    "end_time = time.time()\n",
    "execution_time = end_time - start_time\n",
    "print(f\"The average vector calculation elapsed: {execution_time} seconds\")"
   ],
   "metadata": {
    "collapsed": false,
    "pycharm": {
     "name": "#%%\n"
    }
   }
  },
  {
   "cell_type": "code",
   "execution_count": null,
   "outputs": [],
   "source": [
    "def create_artist_collection():\n",
    "    if utility.has_collection(MILVUS_ARTISTS_COLLECTION):\n",
    "        utility.drop_collection(MILVUS_ARTISTS_COLLECTION)\n",
    "\n",
    "    # object should be inserted in the format of (artist, embedding embedding)\n",
    "    fields = [\n",
    "        FieldSchema(name=\"id\", dtype=DataType.INT64, is_primary=True, auto_id=True),\n",
    "        FieldSchema(name=\"artist\", dtype=DataType.VARCHAR, max_length=100),\n",
    "        FieldSchema(name=\"embedding\", dtype=DataType.FLOAT_VECTOR, dim=DIMENSION)\n",
    "    ]\n",
    "    \n",
    "    schema = CollectionSchema(fields=fields)\n",
    "    collection = Collection(name=MILVUS_ARTISTS_COLLECTION, schema=schema)\n",
    "\n",
    "    index_params = {\n",
    "        \"index_type\": \"IVF_FLAT\",\n",
    "        \"metric_type\": \"L2\",\n",
    "        \"params\": {\"nlist\": 128},\n",
    "    }\n",
    "    collection.create_index(field_name=\"embedding\", index_params=index_params)\n",
    "    collection.load()\n",
    "    return collection"
   ],
   "metadata": {
    "collapsed": false,
    "pycharm": {
     "name": "#%%\n"
    }
   }
  },
  {
   "cell_type": "code",
   "execution_count": null,
   "outputs": [],
   "source": [
    "collection_artists = create_artist_collection()"
   ],
   "metadata": {
    "collapsed": false,
    "pycharm": {
     "name": "#%%\n"
    }
   }
  },
  {
   "cell_type": "code",
   "execution_count": null,
   "outputs": [],
   "source": [
    "data_batch = [[], []]\n",
    "\n",
    "for key, value in artist_avg_vectors.items():\n",
    "    data_batch[0].append(key)\n",
    "    data_batch[1].append(value)\n",
    "    \n",
    "    if len(data_batch[0]) % BATCH_SIZE == 0:\n",
    "        collection_artists.insert(data_batch)\n",
    "        data_batch = [[], []]\n",
    "\n",
    "if len(data_batch[0]) != 0:\n",
    "    collection_artists.insert(data_batch)\n",
    "\n",
    "try:\n",
    "    collection_artists.flush()\n",
    "    print(\"Flushed changes to the artist collection\")\n",
    "except Exception as e:\n",
    "    print(f\"Error during flushing the artist collection: {e}\")"
   ],
   "metadata": {
    "collapsed": false,
    "pycharm": {
     "name": "#%%\n"
    }
   }
  },
  {
   "cell_type": "markdown",
   "source": [
    "## Test the data"
   ],
   "metadata": {
    "collapsed": false,
    "pycharm": {
     "name": "#%% md\n"
    }
   }
  },
  {
   "cell_type": "code",
   "execution_count": null,
   "outputs": [],
   "source": [
    "from sklearn.metrics.pairwise import cosine_similarity\n",
    "from tabulate import tabulate\n",
    "\n",
    "def search_and_evaluate(search_terms, collection, top_k=10):\n",
    "    query_embedding = transformer.encode(search_terms)\n",
    "    query_embedding = np.array(query_embedding)\n",
    "\n",
    "    search_results = collection.search(\n",
    "        data=query_embedding,\n",
    "        anns_field=\"embedding\",\n",
    "        param={\"metric_type\": \"L2\", \"params\": {\"nprobe\": 20}},\n",
    "        limit=top_k,\n",
    "        output_fields=[\"artist\", \"song\", \"embedding\"]\n",
    "    )    \n",
    "    \n",
    "    results = []\n",
    "    similarities = []\n",
    "    for hit in search_results[0]:\n",
    "        artist = hit.entity.get('artist')\n",
    "        song = hit.entity.get('song')\n",
    "        similarity = cosine_similarity(query_embedding, np.array([hit.entity.get('embedding')]))[0][0]\n",
    "        similarities.append(similarity)\n",
    "        results.append([artist, song, f\"{similarity:.2f}\"])\n",
    "\n",
    "    print(tabulate(results, headers=[\"Artist\", \"Song\", \"Similarity\"]))\n",
    "    average_similarity = np.mean(similarities)\n",
    "    print(f\"Average similarity: {average_similarity:.2f}\")\n",
    "    return search_results, average_similarity\n",
    "\n",
    "# Example of usage\n",
    "search_terms = \"I'm looking for a song about the epic battles, heroes and warriors of the True metal with hearts of steel\"\n",
    "results = search_and_evaluate([search_terms], songs_collection, top_k=20)\n"
   ],
   "metadata": {
    "collapsed": false,
    "pycharm": {
     "name": "#%%\n"
    }
   }
  },
  {
   "cell_type": "markdown",
   "source": [
    "## Visualization of the clusters of artists"
   ],
   "metadata": {
    "collapsed": false,
    "pycharm": {
     "name": "#%% md\n"
    }
   }
  },
  {
   "cell_type": "code",
   "execution_count": null,
   "outputs": [],
   "source": [
    "import numpy as np\n",
    "from adjustText import adjust_text\n",
    "from sklearn.manifold import TSNE\n",
    "from sklearn.cluster import KMeans\n",
    "import matplotlib.pyplot as plt\n",
    "\n",
    "\n",
    "artist_vectors_list = list(artist_avg_vectors.values())\n",
    "artist_vectors_np = np.array(artist_vectors_list)\n",
    "\n",
    "tsne = TSNE(n_components=2, random_state=1)\n",
    "reduced_vectors = tsne.fit_transform(artist_vectors_np)\n",
    "\n",
    "n_clusters = 35\n",
    "\n",
    "kmeans = KMeans(n_clusters=n_clusters, random_state=1)\n",
    "kmeans.fit(reduced_vectors)\n",
    "labels = kmeans.labels_\n",
    "\n",
    "plt.figure(figsize=(22, 15))\n",
    "\n",
    "colors = [\n",
    "    'firebrick', 'indigo', 'darkorange',\n",
    "    'purple', 'darkblue', 'darkred', 'darkslateblue', 'darkolivegreen',\n",
    "    'darkgoldenrod', 'darkcyan', 'darkgreen', 'darkmagenta', 'darkslategray', 'teal',\n",
    "    'saddlebrown', 'midnightblue', 'deeppink', 'forestgreen', 'mediumvioletred',\n",
    "    'chocolate', 'steelblue', 'darkkhaki', 'mediumblue', 'tomato',\n",
    "    'darkolivegreen', 'sienna', 'royalblue', 'crimson', 'seagreen',\n",
    "    'cadetblue', 'maroon', 'darkblue', 'darkorange', 'darkgoldenrod', 'navy'\n",
    "]\n",
    "\n",
    "assert len(colors) >= n_clusters, \"There are not enough colors for all clusters\"\n",
    "\n",
    "texts = []\n",
    "\n",
    "for i in range(n_clusters):\n",
    "    cluster_color = colors[i]\n",
    "    \n",
    "    cluster_indices = [index for index, label in enumerate(labels) if label == i]\n",
    "    cluster_points = reduced_vectors[cluster_indices]\n",
    "    scatter = plt.scatter(cluster_points[:, 0], cluster_points[:, 1], label=f'Cluster {i + 1}', color=colors[i])\n",
    "\n",
    "    cluster_center = np.mean(cluster_points, axis=0)\n",
    "\n",
    "    artists_in_cluster = [list(artist_avg_vectors.keys())[index] for index in cluster_indices]\n",
    "    artists_text = '\\n'.join(artists_in_cluster[:10])\n",
    "\n",
    "    text = plt.text(\n",
    "        cluster_center[0], \n",
    "        cluster_center[1], \n",
    "        f'{i + 1}: {artists_text}',\n",
    "        ha='center', \n",
    "        fontsize=11,\n",
    "        color=colors[i],\n",
    "        bbox=dict(facecolor='white', alpha=0.85, edgecolor=colors[i], boxstyle='round,pad=0.2')\n",
    "    )\n",
    "    texts.append(text)\n",
    "\n",
    "adjust_text(texts, arrowprops=dict(arrowstyle='->', color='red'))\n",
    "\n",
    "plt.title('Artist Clusters in 2D')\n",
    "plt.xlabel('t-SNE Feature 1')\n",
    "plt.ylabel('t-SNE Feature 2')\n",
    "plt.show()"
   ],
   "metadata": {
    "collapsed": false,
    "pycharm": {
     "name": "#%%\n"
    }
   }
  },
  {
   "cell_type": "markdown",
   "source": [
    "## Get two random songs from each Cluster"
   ],
   "metadata": {
    "collapsed": false,
    "pycharm": {
     "name": "#%% md\n"
    }
   }
  },
  {
   "cell_type": "code",
   "execution_count": null,
   "outputs": [],
   "source": [
    "from collections import defaultdict\n",
    "import random\n",
    "\n",
    "clusters = defaultdict(list)\n",
    "for artist, label in zip(artist_avg_vectors.keys(), labels):\n",
    "    clusters[label].append(artist)\n",
    "\n",
    "sond_ids = []\n",
    "for cluster, artists in clusters.items():\n",
    "    artists_songs = defaultdict(list)\n",
    "    \n",
    "    selected_artists = random.sample(artists, min(2, len(artists)))\n",
    "\n",
    "    print(f'Cluster {cluster + 1}: {selected_artists}')\n",
    "    entities = songs_collection.query(\n",
    "        expr=f'artist in {selected_artists}',\n",
    "        output_fields=[\"id\", \"artist\", \"song\"])\n",
    "\n",
    "    if entities:\n",
    "        for entity in entities:\n",
    "            artists_songs[entity['artist']].append(entity['id'])\n",
    "\n",
    "        for selected_artist in artists_songs:\n",
    "            sond_ids.append(random.choice(artists_songs[selected_artist]))\n",
    "\n",
    "print(sond_ids)"
   ],
   "metadata": {
    "collapsed": false,
    "pycharm": {
     "name": "#%%\n"
    }
   }
  },
  {
   "cell_type": "code",
   "execution_count": null,
   "outputs": [],
   "source": [],
   "metadata": {
    "collapsed": false,
    "pycharm": {
     "name": "#%%\n"
    }
   }
  },
  {
   "cell_type": "code",
   "execution_count": null,
   "outputs": [],
   "source": [],
   "metadata": {
    "collapsed": false,
    "pycharm": {
     "name": "#%%\n"
    }
   }
  },
  {
   "cell_type": "code",
   "execution_count": null,
   "outputs": [],
   "source": [
    "# COLLECTION_NAME_USERS = \"users_collection\"\n",
    "\n",
    "def create_user_collection():\n",
    "    if utility.has_collection(MILVUS_USERS_COLLECTION):\n",
    "        utility.drop_collection(MILVUS_USERS_COLLECTION)\n",
    "\n",
    "    # object should be inserted in the format of (artist, embedding embedding)\n",
    "    fields = [\n",
    "        FieldSchema(name=\"user_id\", dtype=DataType.INT64, is_primary=True, auto_id=False),\n",
    "        FieldSchema(name=\"embedding\", dtype=DataType.FLOAT_VECTOR, dim=DIMENSION)\n",
    "    ]\n",
    "    \n",
    "    schema = CollectionSchema(fields=fields)\n",
    "    collection = Collection(name=MILVUS_USERS_COLLECTION, schema=schema)\n",
    "\n",
    "    index_params = {\n",
    "        \"index_type\": \"IVF_FLAT\",\n",
    "        \"metric_type\": \"L2\",\n",
    "        \"params\": {\"nlist\": 128},\n",
    "    }\n",
    "    collection.create_index(field_name=\"embedding\", index_params=index_params)\n",
    "    collection.load()\n",
    "    return collection\n",
    "\n",
    "collection_users = create_user_collection()"
   ],
   "metadata": {
    "collapsed": false,
    "pycharm": {
     "name": "#%%\n"
    }
   }
  },
  {
   "cell_type": "code",
   "execution_count": null,
   "outputs": [],
   "source": [
    "def create_user_artist_collection():\n",
    "    if utility.has_collection(MILVUS_USERS_ARTISTS_COLLECTION):\n",
    "        utility.drop_collection(MILVUS_USERS_ARTISTS_COLLECTION)\n",
    "\n",
    "    fields = [\n",
    "        FieldSchema(name=\"user_id\", dtype=DataType.INT64, is_primary=True, auto_id=False),\n",
    "        FieldSchema(name=\"embedding\", dtype=DataType.FLOAT_VECTOR, dim=DIMENSION)\n",
    "    ]\n",
    "    \n",
    "    schema = CollectionSchema(fields=fields)\n",
    "    collection = Collection(name=MILVUS_USERS_ARTISTS_COLLECTION, schema=schema)\n",
    "\n",
    "    index_params = {\n",
    "        \"index_type\": \"IVF_FLAT\",\n",
    "        \"metric_type\": \"L2\",\n",
    "        \"params\": {\"nlist\": 128},\n",
    "    }\n",
    "    collection.create_index(field_name=\"embedding\", index_params=index_params)\n",
    "    collection.load()\n",
    "    return collection\n",
    "\n",
    "collection_users_artiss = create_user_artist_collection()"
   ],
   "metadata": {
    "collapsed": false,
    "pycharm": {
     "name": "#%%\n"
    }
   }
  },
  {
   "cell_type": "markdown",
   "source": [
    "# RESEARCH"
   ],
   "metadata": {
    "collapsed": false,
    "pycharm": {
     "name": "#%% md\n"
    }
   }
  },
  {
   "cell_type": "code",
   "execution_count": null,
   "outputs": [],
   "source": [
    "def create_songs_collection_part():\n",
    "    if utility.has_collection(COLLECTION_NAME_SONGS_part):\n",
    "        utility.drop_collection(COLLECTION_NAME_SONGS_part)\n",
    "\n",
    "    fields = [\n",
    "        FieldSchema(name=\"id\", dtype=DataType.INT64, is_primary=True, auto_id=True),\n",
    "        FieldSchema(name=\"artist\", dtype=DataType.VARCHAR, max_length=100, partition_tag=True),  # Указываем ключ партиционирования\n",
    "        FieldSchema(name=\"song\", dtype=DataType.VARCHAR, max_length=100),\n",
    "        FieldSchema(name=\"embedding\", dtype=DataType.FLOAT_VECTOR, dim=DIMENSION)\n",
    "    ]\n",
    "    \n",
    "    schema = CollectionSchema(fields=fields)\n",
    "    collection = Collection(name=COLLECTION_NAME_SONGS_part, schema=schema)\n",
    "\n",
    "    collection.create_index(field_name=\"embedding\", \n",
    "                            index_params={\n",
    "                                \"index_type\": \"IVF_FLAT\",\n",
    "                                \"metric_type\": \"L2\",\n",
    "                                \"params\": {\"nlist\": 128},\n",
    "                            })    \n",
    "    collection.load()\n",
    "    return collection"
   ],
   "metadata": {
    "collapsed": false,
    "pycharm": {
     "name": "#%%\n"
    }
   }
  },
  {
   "cell_type": "code",
   "execution_count": null,
   "outputs": [],
   "source": [
    "collection_songs_part = create_songs_collection_part()"
   ],
   "metadata": {
    "collapsed": false,
    "pycharm": {
     "name": "#%%\n"
    }
   }
  },
  {
   "cell_type": "code",
   "execution_count": null,
   "outputs": [],
   "source": [
    "def embed_insert_part(data, collection):\n",
    "    try:\n",
    "        texts = np.array(data[2])\n",
    "        embeddings = transformer.encode(texts)\n",
    "\n",
    "        insert_data = [\n",
    "            data[0],  # artist\n",
    "            data[1],  # song\n",
    "            embeddings.tolist()  # embeddings\n",
    "        ]\n",
    "\n",
    "        collection.insert(insert_data, partition_name=data[0])\n",
    "        print(f\"Inserted batch of {len(data[0])} songs.\")\n",
    "        \n",
    "        return {f\"{artist}-{song}\": embedding.tolist() for artist, song, embedding in zip(data[0], data[1], embeddings)}\n",
    "    except Exception as e:\n",
    "        print(f\"Error during embedding and insertion: {e}\")\n",
    "        return None"
   ],
   "metadata": {
    "collapsed": false,
    "pycharm": {
     "name": "#%%\n"
    }
   }
  },
  {
   "cell_type": "code",
   "execution_count": null,
   "outputs": [],
   "source": [
    "data_batch = [[], [], []]\n",
    "song_vectors = {} \n",
    "\n",
    "for index, row in cleaned_df.iterrows():\n",
    "    data_batch[0].append(row[\"artist\"])\n",
    "    data_batch[1].append(row[\"song\"])\n",
    "    data_batch[2].append(row[\"text\"])\n",
    "\n",
    "    if len(data_batch[0]) % BATCH_SIZE == 0:\n",
    "        batch_vectors = embed_insert_part(data_batch, collection_songs_part)\n",
    "        if batch_vectors is not None:\n",
    "            song_vectors.update(batch_vectors)\n",
    "        data_batch = [[], [], []]\n",
    "\n",
    "if len(data_batch[0]) != 0:\n",
    "    batch_vectors = embed_insert_part(data_batch, collection_songs_part)\n",
    "    if batch_vectors is not None:\n",
    "        song_vectors.update(batch_vectors)\n",
    "\n",
    "try:\n",
    "    songs_collection.flush()\n",
    "    print(\"Flushed changes to the songs collection.\")\n",
    "except Exception as e:\n",
    "    print(f\"Error during flushing the songs collection: {e}\")"
   ],
   "metadata": {
    "collapsed": false,
    "pycharm": {
     "name": "#%%\n"
    }
   }
  }
 ],
 "metadata": {
  "kernelspec": {
   "display_name": "Python 3 (ipykernel)",
   "language": "python",
   "name": "python3"
  },
  "language_info": {
   "codemirror_mode": {
    "name": "ipython",
    "version": 3
   },
   "file_extension": ".py",
   "mimetype": "text/x-python",
   "name": "python",
   "nbconvert_exporter": "python",
   "pygments_lexer": "ipython3",
   "version": "3.10.10"
  }
 },
 "nbformat": 4,
 "nbformat_minor": 5
}